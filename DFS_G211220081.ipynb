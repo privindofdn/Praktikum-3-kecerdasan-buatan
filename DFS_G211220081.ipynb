{
  "nbformat": 4,
  "nbformat_minor": 0,
  "metadata": {
    "colab": {
      "provenance": []
    },
    "kernelspec": {
      "name": "python3",
      "display_name": "Python 3"
    },
    "language_info": {
      "name": "python"
    }
  },
  "cells": [
    {
      "cell_type": "code",
      "execution_count": 2,
      "metadata": {
        "colab": {
          "base_uri": "https://localhost:8080/"
        },
        "id": "y6SrUp75T7pu",
        "outputId": "71f17664-a39d-4eef-9ed4-177467fcf77e"
      },
      "outputs": [
        {
          "output_type": "stream",
          "name": "stdout",
          "text": [
            "Masukan awal: A\n",
            "Masukan akhir: E\n",
            "['A', 'B', 'C', 'D', 'E']\n"
          ]
        }
      ],
      "source": [
        "peta = {\n",
        "    'A':set(['B']),\n",
        "    'B':set(['C','A']),\n",
        "    'C':set(['H','B','I','D']),\n",
        "    'D':set(['C','E','H','F']),\n",
        "    'E':set(['D']),\n",
        "    'F':set(['D','G']),\n",
        "    'G':set(['F','H']),\n",
        "    'H':set(['L','C','G','D']),\n",
        "    'I':set(['C','J','K']),\n",
        "    'J':set(['I']),\n",
        "    'K':set(['L','I']),\n",
        "    'L':set(['K','H'])}\n",
        "\n",
        "def dfs(graph, mulai, goal):\n",
        "  explored = []\n",
        "  stack = [[mulai]]\n",
        "\n",
        "  if mulai == goal:\n",
        "    return \"Awal adalah tujuan\"\n",
        "\n",
        "  while stack:\n",
        "    jalur = stack.pop(-1)\n",
        "    node = jalur[-1]\n",
        "\n",
        "    if node not in explored:\n",
        "      neighbours = graph[node]\n",
        "\n",
        "      for neighbours in neighbours:\n",
        "        jalur_baru = list(jalur)\n",
        "        jalur_baru.append(neighbours)\n",
        "        stack.append(jalur_baru)\n",
        "\n",
        "        if neighbours == goal:\n",
        "          return jalur_baru\n",
        "\n",
        "      explored.append(node)\n",
        "\n",
        "  return \"Mohon maaf node yang kalian pilih tidak ada\"\n",
        "\n",
        "awal = input(\"Masukan awal: \")\n",
        "tujuan = input(\"Masukan akhir: \")\n",
        "\n",
        "print(dfs(peta, awal, tujuan))"
      ]
    }
  ]
}